{
 "cells": [
  {
   "cell_type": "code",
   "execution_count": null,
   "metadata": {
    "collapsed": true
   },
   "outputs": [],
   "source": [
    "# K-means clustering on subway turnstiles\n",
    "from sklearn.cluster import Kmeans\n",
    "import urllib.request\n",
    "import json\n",
    "import dml\n",
    "import prov.model\n",
    "import datetime\n",
    "import uuid\n",
    "import pandas as pd\n",
    "\n",
    "class turnstile_kmeans(dml.Algorithm):\n",
    "\tcontributor = 'anuragp1_jl101995'\n",
    "\treads = ['anuragp1_jl101995.geocoded_turnstile']\n",
    "\n",
    "\t@staticmethod\n",
    "\tdef execute():\n",
    "\n",
    "\t\tstartTime = datetime.datetime.now()\n",
    "\n",
    "        # Set up the database connection.\n",
    "        client = dml.pymongo.MongoClient()\n",
    "        repo = client.repo\n",
    "        repo.authenticate('anuragp1_jl101995', 'anuragp1_jl101995')\n",
    "\n",
    "        print('Loading citibike_data from Mongo')\n",
    "        geoturnstile_data = repo.anuragp1_jl101995.geocoded_turnstile.find()\n",
    "        \n",
    "        for t in geoturnstile_data:\n",
    "            station, lat, lng = t['STATION'], t['LAT'], t['LONG']\n",
    "                        \n"
   ]
  }
 ],
 "metadata": {
  "kernelspec": {
   "display_name": "Python [py35]",
   "language": "python",
   "name": "Python [py35]"
  },
  "language_info": {
   "codemirror_mode": {
    "name": "ipython",
    "version": 3
   },
   "file_extension": ".py",
   "mimetype": "text/x-python",
   "name": "python",
   "nbconvert_exporter": "python",
   "pygments_lexer": "ipython3",
   "version": "3.5.2"
  }
 },
 "nbformat": 4,
 "nbformat_minor": 0
}
